{
 "cells": [
  {
   "cell_type": "code",
   "execution_count": 1,
   "id": "7eb7d91f",
   "metadata": {},
   "outputs": [
    {
     "name": "stdout",
     "output_type": "stream",
     "text": [
      "✅ Water Pollution Model Trained and Saved!\n"
     ]
    }
   ],
   "source": [
    "import pandas as pd\n",
    "from sklearn.model_selection import train_test_split\n",
    "from sklearn.ensemble import RandomForestClassifier\n",
    "from sklearn.preprocessing import StandardScaler\n",
    "import pickle\n",
    "\n",
    "# Load dataset\n",
    "data = pd.read_csv('../data/water_data.csv')\n",
    "\n",
    "# Handle missing values\n",
    "data.fillna(data.mean(), inplace=True)\n",
    "\n",
    "# Features and label\n",
    "X = data.drop('Potability', axis=1)\n",
    "y = data['Potability']\n",
    "\n",
    "# Scale data\n",
    "scaler = StandardScaler()\n",
    "X_scaled = scaler.fit_transform(X)\n",
    "\n",
    "# Train/test split\n",
    "X_train, X_test, y_train, y_test = train_test_split(X_scaled, y, test_size=0.2, random_state=42)\n",
    "\n",
    "# Train RandomForest\n",
    "model = RandomForestClassifier(n_estimators=100, random_state=42)\n",
    "model.fit(X_train, y_train)\n",
    "\n",
    "# Save model & scaler\n",
    "pickle.dump(model, open('../models/water_model.pkl', 'wb'))\n",
    "pickle.dump(scaler, open('../models/water_scaler.pkl', 'wb'))\n",
    "\n",
    "print(\"✅ Water Pollution Model Trained and Saved!\")\n"
   ]
  }
 ],
 "metadata": {
  "kernelspec": {
   "display_name": "venv",
   "language": "python",
   "name": "python3"
  },
  "language_info": {
   "codemirror_mode": {
    "name": "ipython",
    "version": 3
   },
   "file_extension": ".py",
   "mimetype": "text/x-python",
   "name": "python",
   "nbconvert_exporter": "python",
   "pygments_lexer": "ipython3",
   "version": "3.12.10"
  }
 },
 "nbformat": 4,
 "nbformat_minor": 5
}
