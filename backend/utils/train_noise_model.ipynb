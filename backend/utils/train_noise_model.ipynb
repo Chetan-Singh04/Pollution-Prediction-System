{
 "cells": [
  {
   "cell_type": "code",
   "execution_count": 1,
   "id": "1d846d75",
   "metadata": {},
   "outputs": [
    {
     "name": "stderr",
     "output_type": "stream",
     "text": [
      "d:\\V S code\\Project\\pollution-prediction-system\\venv\\Lib\\site-packages\\librosa\\core\\spectrum.py:266: UserWarning: n_fft=2048 is too large for input signal of length=1323\n",
      "  warnings.warn(\n",
      "d:\\V S code\\Project\\pollution-prediction-system\\venv\\Lib\\site-packages\\librosa\\core\\spectrum.py:266: UserWarning: n_fft=2048 is too large for input signal of length=1103\n",
      "  warnings.warn(\n",
      "d:\\V S code\\Project\\pollution-prediction-system\\venv\\Lib\\site-packages\\librosa\\core\\spectrum.py:266: UserWarning: n_fft=2048 is too large for input signal of length=1523\n",
      "  warnings.warn(\n"
     ]
    },
    {
     "name": "stdout",
     "output_type": "stream",
     "text": [
      "Training Random Forest Model...\n",
      "✅ Noise Pollution Model Trained and Saved at ../models/noise_model.pkl\n"
     ]
    }
   ],
   "source": [
    "import os\n",
    "import pandas as pd\n",
    "import numpy as np\n",
    "import librosa\n",
    "from sklearn.ensemble import RandomForestClassifier\n",
    "from sklearn.model_selection import train_test_split\n",
    "import pickle\n",
    "\n",
    "# Paths\n",
    "metadata_path = \"../data/noise_data.csv\"  # Metadata file\n",
    "audio_dir = \"../data/noise_data_audio\"    # Folder containing subfolders with audio files\n",
    "\n",
    "# Load metadata\n",
    "metadata = pd.read_csv(metadata_path)\n",
    "\n",
    "# Map sound classes to Safe(0) and Unsafe(1)\n",
    "# Example: quiet sounds like \"air_conditioner\" = Safe (0), loud like \"jackhammer\" = Unsafe (1)\n",
    "safe_classes = ['air_conditioner', 'engine_idling', 'children_playing']\n",
    "metadata['label'] = metadata['class'].apply(lambda x: 0 if x in safe_classes else 1)\n",
    "\n",
    "X, y = [], []\n",
    "\n",
    "# Extract MFCC features\n",
    "for index, row in metadata.iterrows():\n",
    "    file_path = os.path.join(audio_dir, f\"fold{row['fold']}\", row['slice_file_name'])\n",
    "    try:\n",
    "        # Load audio\n",
    "        y_audio, sr = librosa.load(file_path, duration=5.0)\n",
    "        # Extract MFCCs\n",
    "        mfcc = librosa.feature.mfcc(y=y_audio, sr=sr, n_mfcc=40)\n",
    "        mfcc_scaled = np.mean(mfcc.T, axis=0)\n",
    "        X.append(mfcc_scaled)\n",
    "        y.append(row['label'])\n",
    "    except Exception as e:\n",
    "        print(f\"Error processing {file_path}: {e}\")\n",
    "\n",
    "# Convert to arrays\n",
    "X = np.array(X)\n",
    "y = np.array(y)\n",
    "\n",
    "# Split data\n",
    "X_train, X_test, y_train, y_test = train_test_split(\n",
    "    X, y, test_size=0.2, random_state=42\n",
    ")\n",
    "\n",
    "# Train RandomForest\n",
    "print(\"Training Random Forest Model...\")\n",
    "model = RandomForestClassifier(n_estimators=100, random_state=42)\n",
    "model.fit(X_train, y_train)\n",
    "\n",
    "# Save model\n",
    "model_path = \"../models/noise_model.pkl\"\n",
    "with open(model_path, 'wb') as f:\n",
    "    pickle.dump(model, f)\n",
    "\n",
    "print(f\"✅ Noise Pollution Model Trained and Saved at {model_path}\")\n"
   ]
  }
 ],
 "metadata": {
  "kernelspec": {
   "display_name": "venv",
   "language": "python",
   "name": "python3"
  },
  "language_info": {
   "codemirror_mode": {
    "name": "ipython",
    "version": 3
   },
   "file_extension": ".py",
   "mimetype": "text/x-python",
   "name": "python",
   "nbconvert_exporter": "python",
   "pygments_lexer": "ipython3",
   "version": "3.12.10"
  }
 },
 "nbformat": 4,
 "nbformat_minor": 5
}
